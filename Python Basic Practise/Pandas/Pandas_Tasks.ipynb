{
 "cells": [
  {
   "cell_type": "code",
   "execution_count": 2,
   "metadata": {},
   "outputs": [],
   "source": [
    "import mysql.connector as conn"
   ]
  },
  {
   "cell_type": "code",
   "execution_count": 11,
   "metadata": {},
   "outputs": [],
   "source": [
    "connection = conn.connect(host = \"localhost\", user = \"root\", passwd = \"Nishchal@30\")\n",
    "cursor = connection.cursor()"
   ]
  },
  {
   "cell_type": "code",
   "execution_count": 12,
   "metadata": {},
   "outputs": [],
   "source": [
    "sql = \"\"\" CREATE DATABASE IF NOT EXISTS PANDAS_TASKS\"\"\"\n",
    "cursor.execute(sql)"
   ]
  },
  {
   "cell_type": "code",
   "execution_count": 13,
   "metadata": {},
   "outputs": [],
   "source": [
    "sql = \"\"\"CREATE TABLE IF NOT EXISTS PANDAS_TASKS.`Fitbit_data` (\n",
    "        `Id` DECIMAL(38, 0) NOT NULL,         \n",
    "        `ActivityDate` DATE NOT NULL,         \n",
    "        `TotalSteps` DECIMAL(38, 0) NOT NULL, \n",
    "        `TotalDistance` DECIMAL(38, 17) NOT NULL,\n",
    "        `TrackerDistance` DECIMAL(38, 17) NOT NULL,\n",
    "        `LoggedActivitiesDistance` DECIMAL(38, 15) NOT NULL,\n",
    "        `VeryActiveDistance` DECIMAL(38, 17) NOT NULL,\n",
    "        `ModeratelyActiveDistance` DECIMAL(38, 16) NOT NULL,\n",
    "        `LightActiveDistance` DECIMAL(38, 17) NOT NULL,\n",
    "        `SedentaryActiveDistance` DECIMAL(38, 17) NOT NULL,\n",
    "        `VeryActiveMinutes` DECIMAL(38, 0) NOT NULL,\n",
    "        `FairlyActiveMinutes` DECIMAL(38, 0) NOT NULL,\n",
    "        `LightlyActiveMinutes` DECIMAL(38, 0) NOT NULL,\n",
    "        `SedentaryMinutes` DECIMAL(38, 0) NOT NULL,\n",
    "        `Calories` DECIMAL(38, 0) NOT NULL\n",
    ");\"\"\"\n",
    "\n",
    "cursor.execute(sql)"
   ]
  },
  {
   "cell_type": "code",
   "execution_count": null,
   "metadata": {},
   "outputs": [],
   "source": []
  },
  {
   "cell_type": "code",
   "execution_count": 10,
   "metadata": {},
   "outputs": [],
   "source": [
    "cursor.close()\n",
    "connection.close()"
   ]
  },
  {
   "cell_type": "code",
   "execution_count": null,
   "metadata": {},
   "outputs": [],
   "source": []
  }
 ],
 "metadata": {
  "kernelspec": {
   "display_name": "practise",
   "language": "python",
   "name": "python3"
  },
  "language_info": {
   "codemirror_mode": {
    "name": "ipython",
    "version": 3
   },
   "file_extension": ".py",
   "mimetype": "text/x-python",
   "name": "python",
   "nbconvert_exporter": "python",
   "pygments_lexer": "ipython3",
   "version": "3.11.3"
  },
  "orig_nbformat": 4
 },
 "nbformat": 4,
 "nbformat_minor": 2
}
