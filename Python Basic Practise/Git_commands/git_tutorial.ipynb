{
 "cells": [
  {
   "cell_type": "markdown",
   "metadata": {},
   "source": [
    "### **Git commands**"
   ]
  },
  {
   "cell_type": "markdown",
   "metadata": {},
   "source": [
    "1) First we need to initialise git using **git init** command from the folder we want to push on git.\n",
    "2) The we need to add our created github repository to the origin repo with **git remote add repourl**\n",
    "3) **git add .** or **git add filename**  will add either all files or the specific file to the staging area.\n",
    "4) **git commit -m \"message\"** will commit the added file.\n",
    "5) **git branch -M main** will change the branch from master to main for commiting the files.\n",
    "6) **.gitignore** file will never commit the files which are present in the .gitignore file.\n",
    "7) **git push origin main** command will push the commited code or files to the github repo.\n",
    "8) in cmd from the specific foler if we write **git clone https://github.com/Nishchal30/Loan-Prediction-.git** then that repo will be cloned to that folder.\n",
    "9) If anyone has updated any file in the central repo and we have also done the changes in the same file without taking the pull of that file, then there will be conflicts in that file. So for that we first need to do pull of that repo, accept the changes in that file and then commit that file to repo."
   ]
  },
  {
   "cell_type": "markdown",
   "metadata": {},
   "source": [
    "### **Now we will see the branching strategy**"
   ]
  },
  {
   "cell_type": "markdown",
   "metadata": {},
   "source": [
    "1) If we have created multiple branches of the main branch with **git branch developera**\n",
    "2) Then whatever changes we have done to the file of the created branch, we first need to commit that changes with **git commit -m \"mesage\"**\n",
    "3) To see what changes we have done in the new created branch, we can use **git diff**\n",
    "4) Then we must need to switch to the main branch first with **git checkout main**\n",
    "5) And then merge the created branch with main branch with **git merge developera**\n",
    "6) After working with the new branch we can delete that branch with **git branch -d developera**\n",
    "7) Also we can see all the git logs using **git log** command."
   ]
  },
  {
   "cell_type": "markdown",
   "metadata": {},
   "source": [
    "## **Undoing changes**"
   ]
  },
  {
   "cell_type": "markdown",
   "metadata": {},
   "source": [
    "1) If we have to revert our changes from the staging area, **git reset 'filename'**\n",
    "2) If we have to revert changes from multiple file then write **git reset**\n",
    "3) If we have to revert commited changes the write **git reset HEAD~1** \n",
    "- Here **HEAD** means the position of the current commit and **~1** mean it will go back to the 1 commit ago.\n",
    "- Suppose we have 5 commits then HEAD will at 5th commit after HEAD~1 it will go to 4th commit.\n",
    "4) If we have to revert changes multiple commits before, then use **git reset 'commit hash'**\n",
    "- *commit hash* can be found from **git log**. we cane enter commit hash of that particular commit where we want to revert the changes\n",
    "5) **git reset --hard 'commit hash'**, if we use this *--hard* then the changes will be undone from our vs code also."
   ]
  },
  {
   "cell_type": "markdown",
   "metadata": {},
   "source": [
    "## **Fork**"
   ]
  },
  {
   "cell_type": "markdown",
   "metadata": {},
   "source": [
    "Fork means clone a git repo on our account of someone else's repo. basically it will create a rough copy of that project on our account."
   ]
  },
  {
   "cell_type": "markdown",
   "metadata": {},
   "source": []
  }
 ],
 "metadata": {
  "language_info": {
   "name": "python"
  },
  "orig_nbformat": 4
 },
 "nbformat": 4,
 "nbformat_minor": 2
}
